{
 "cells": [
  {
   "cell_type": "code",
   "execution_count": null,
   "id": "e8020e2e-011e-4501-8079-e4cb28d28406",
   "metadata": {},
   "outputs": [],
   "source": [
    "from quantrocket.history import get_historical_prices\n",
    "import numpy as np"
   ]
  },
  {
   "cell_type": "code",
   "execution_count": null,
   "id": "d6bc61b6-0f79-4358-a0e2-9b4d7394863e",
   "metadata": {},
   "outputs": [],
   "source": [
    "prices = get_historical_prices(\n",
    "    \"my-db\",\n",
    "    start_date=\"2023-01-01\",\n",
    "    end_date=\"2023-12-31\",\n",
    "    fields=[\"Close\"]\n",
    ")[\"Close\"]"
   ]
  },
  {
   "cell_type": "code",
   "execution_count": null,
   "id": "aca2a3c3-d7f1-4a82-a391-78b5bf978609",
   "metadata": {},
   "outputs": [],
   "source": [
    "returns = prices.pct_change() "
   ]
  },
  {
   "cell_type": "code",
   "execution_count": null,
   "id": "adf7a4aa-dd28-4494-974e-bbb340f5ceb1",
   "metadata": {},
   "outputs": [],
   "source": [
    "def classify_state(ret):\n",
    "    if ret >= 0.01:\n",
    "        return 1\n",
    "    elif ret > -0.01:\n",
    "        return 0\n",
    "    else:\n",
    "        return -1"
   ]
  },
  {
   "cell_type": "code",
   "execution_count": null,
   "id": "128eb120-3444-4a14-9c3e-7e9274079826",
   "metadata": {},
   "outputs": [],
   "source": [
    "states = returns.apply(classify_state)"
   ]
  },
  {
   "cell_type": "code",
   "execution_count": null,
   "id": "dd321f1b-3d2d-4f9b-9fec-47c227568c34",
   "metadata": {},
   "outputs": [],
   "source": [
    "V = 0"
   ]
  },
  {
   "cell_type": "code",
   "execution_count": null,
   "id": "5a235639-e963-4816-a7e4-64aabdb30b7b",
   "metadata": {},
   "outputs": [],
   "source": [
    "transition_counts = np.zeros((3, 3))\n",
    "for d in range(1, len(states)): \n",
    "    if d > 1:\n",
    "        transition_counts[states[d-1]+1, states[d]+1] += 1\n",
    "\n",
    "\n",
    "    if states[d] == 1 and states[d-1] == 0:\n",
    "        V += 1\n",
    "    elif states[d] == -1 and states[d-1] == 0:\n",
    "        V -= 1"
   ]
  },
  {
   "cell_type": "code",
   "execution_count": null,
   "id": "925dfb18-e203-460b-9585-fd2b1e2814b7",
   "metadata": {},
   "outputs": [],
   "source": [
    "print(\"Portfolio value:\", V)\n",
    "print(\"Transition distribution:\")\n",
    "transition_probs = transition_counts / np.sum(transition_counts, axis=1, keepdims=True)\n",
    "print(transition_probs)"
   ]
  }
 ],
 "metadata": {
  "kernelspec": {
   "display_name": "Python 3 (ipykernel)",
   "language": "python",
   "name": "python3"
  },
  "language_info": {
   "codemirror_mode": {
    "name": "ipython",
    "version": 3
   },
   "file_extension": ".py",
   "mimetype": "text/x-python",
   "name": "python",
   "nbconvert_exporter": "python",
   "pygments_lexer": "ipython3",
   "version": "3.11.3"
  }
 },
 "nbformat": 4,
 "nbformat_minor": 5
}
